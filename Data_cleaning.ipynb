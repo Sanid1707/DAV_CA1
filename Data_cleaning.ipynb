{
 "cells": [
  {
   "cell_type": "markdown",
   "metadata": {},
   "source": [
    "# Community Risk Index\n",
    "\n",
    "## Setting the Scene\n",
    "\n",
    "Crime is a complex, multi-dimensional phenomenon driven by economic hardship, social cohesion, physical environment and formal policing capacity. Rather than look at any single factor in isolation, your **Community Risk Index** brings together 25 variables—ranging from poverty rates to housing vacancy to police-per-capita—to create a holistic, data-driven ranking of neighbourhoods’ propensity for crime. This approach:\n",
    "\n",
    "- **Reflects Social Disorganization Theory**, which links poverty, residential turnover, demographic heterogeneity and family structure to weakened informal social control;\n",
    "- **Incorporates Routine Activity Theory**, which highlights how density, neighbourhood neglect and policing levels affect the “target–guardian” balance.\n",
    "\n",
    "---\n",
    "\n",
    "## Why this Problem?\n",
    "\n",
    "- Crime not only inflicts economic and human costs, it exacerbates inequality and erodes trust in institutions.\n",
    "- Policy-makers and community groups need a transparent, quantitative tool to pinpoint at-risk areas and the underlying drivers of that risk—so they can deploy resources where they’ll have greatest impact.\n",
    "\n",
    "---\n",
    "\n",
    "## Why this Data?\n",
    "\n",
    "- The UCI **“Communities & Crime”** dataset contains 147 community-level attributes for 2,200+ U.S. jurisdictions, of which we select 25 high-quality variables covering all theoretical pillars.\n",
    "- It’s a **single-file, publicly available CSV**—no arduous merging or licensing—and the variables directly map to the social and physical dimensions that criminology research (Shaw & McKay; Cohen & Felson) identifies as critical.\n",
    "\n",
    "---\n",
    "\n",
    "## Sub-Indices → Final Index\n",
    "\n",
    "1. **Socio-economic Disadvantage**  \n",
    "   (e.g. poverty rate, median income, unemployment)\n",
    "\n",
    "2. **Residential Instability & Family Structure**  \n",
    "   (e.g. residential turnover, two-parent family rates)\n",
    "\n",
    "3. **Ethnic & Cultural Heterogeneity**  \n",
    "   (racial composition shares)\n",
    "\n",
    "4. **Housing & Density**  \n",
    "   (owner-occupancy, vacancy, density, housing age)\n",
    "\n",
    "5. **Policing Capacity**  \n",
    "   (officers per capita, vehicles per capita)\n",
    "\n",
    "Each set of variables is first combined into a **sub-index** (using equal weights and PCA for robustness), then the five sub-indices are **aggregated** into a single composite score. This workflow follows the **10-step OECD composite-indicator handbook** and aligns perfectly with your CA specification’s requirement to ground an index in theory, select appropriate data, and construct transparent sub-indices before forming the final measure."
   ]
  },
  {
   "cell_type": "code",
   "execution_count": 8,
   "metadata": {},
   "outputs": [],
   "source": [
    "# Cell 1: Imports & helper functions\n",
    "import pandas as pd\n",
    "import numpy as np\n"
   ]
  },
  {
   "cell_type": "code",
   "execution_count": 9,
   "metadata": {},
   "outputs": [],
   "source": [
    "def load_data(filepath, encoding='latin1'):\n",
    "    \"\"\"Loads the CSV file.\"\"\"\n",
    "    return pd.read_csv(filepath, encoding=encoding)\n",
    "\n",
    "def recode_implausible_zeros(df, zero_to_nan):\n",
    "    \"\"\"Recode zeros to NaN for columns where zero is not realistic.\"\"\"\n",
    "    for col in zero_to_nan:\n",
    "        if col in df.columns:\n",
    "            df.loc[df[col] == 0, col] = np.nan\n",
    "    return df"
   ]
  },
  {
   "cell_type": "code",
   "execution_count": 10,
   "metadata": {},
   "outputs": [],
   "source": [
    "# Define the variables for each category with their rationales\n",
    "categories = {\n",
    "    'Socio-economic Disadvantage': {\n",
    "        'PctPopUnderPov': 'Poverty rate—key strain driver',\n",
    "        'medIncome': 'Median household income—wealth proxy',\n",
    "        'PctUnemployed': 'Unemployment rate—economic stress',\n",
    "        'PctLess9thGrade': 'Very low education—limits mobility',\n",
    "        'PctNotHSGrad': 'Low completion rate—correlates with crime'\n",
    "    },\n",
    "    'Residential Instability & Family Structure': {\n",
    "        'PctSameHouse85': '% in same home since 1985—inverse instability',\n",
    "        'PctForeignBorn': '% immigrants—turnover proxy',\n",
    "        'PctImmigRec5': '% arrived last 5 yrs—acute social change',\n",
    "        'PctFam2Par': '% two-parent families—youth supervision',\n",
    "        'PctKids2Par': '% children in two-parent homes'\n",
    "    },\n",
    "    'Ethnic & Cultural Heterogeneity': {\n",
    "        'racepctblack': '% Black residents—demographic mix',\n",
    "        'racePctWhite': '% White',\n",
    "        'racePctAsian': '% Asian',\n",
    "        'racePctHisp': '% Hispanic/Latino'\n",
    "    },\n",
    "    'Housing & Density': {\n",
    "        'PctHousOwnOcc': 'Owner-occupancy—investment & stability proxy',\n",
    "        'PctHousNoPhone': '% without phone—material deprivation indicator',\n",
    "        'PctVacantBoarded': '% boarded homes—neighbourhood decay signal',\n",
    "        'PopDens': 'Density—target availability & anonymity factor',\n",
    "        'MedYrHousBuilt': 'Housing-stock age—physical environment factor'\n",
    "    },\n",
    "    'Crime Outcomes': {\n",
    "        'murdPerPop': 'Murders per population—violent crime gauge',\n",
    "        'robbbPerPop': 'Robberies per population',\n",
    "        'assaultPerPop': 'Assaults per population',\n",
    "        'larcPerPop': 'Larcenies per population',\n",
    "        'autoTheftPerPop': 'Vehicle theft per population',\n",
    "        'arsonsPerPop': 'Arsons per population'\n",
    "    },\n",
    "    'Human Capital & Mobility': {\n",
    "        'PctSameCity85': '% in same city since 1985—city-level stability proxy',\n",
    "        'PctSameState85': '% in same state since 1985—state-level stability',\n",
    "        'PctBSorMore': '% with bachelor\\'s degree or higher—education level',\n",
    "        'PctEmploy': 'Employment rate—labour-market engagement',\n",
    "        'PctWorkMom': '% working mothers—dual-earner family structure proxy'\n",
    "    }\n",
    "}\n"
   ]
  },
  {
   "cell_type": "code",
   "execution_count": 11,
   "metadata": {},
   "outputs": [],
   "source": [
    "# Flatten the list of variables to select from the CSV\n",
    "selected_vars = ['Êcommunityname']  # Include community name as ID\n",
    "for category, vars_dict in categories.items():\n",
    "    selected_vars.extend(vars_dict.keys())\n",
    "\n",
    "# Columns where zeros should become NaN (implausible values)\n",
    "zero_to_nan = [\n",
    "    'medIncome', 'PopDens', 'MedYrHousBuilt',\n",
    "    'murdPerPop', 'robbbPerPop', 'assaultPerPop', \n",
    "    'larcPerPop', 'autoTheftPerPop', 'arsonsPerPop'\n",
    "]\n",
    "\n",
    "# Load the raw data\n",
    "df = load_data('crimedata.csv')\n"
   ]
  },
  {
   "cell_type": "code",
   "execution_count": 12,
   "metadata": {},
   "outputs": [],
   "source": [
    "# Select only the relevant columns\n",
    "if all(var in df.columns for var in selected_vars):\n",
    "    df_selected = df[selected_vars].copy()\n",
    "else:\n",
    "    missing_vars = [var for var in selected_vars if var not in df.columns]\n",
    "    print(f\"Warning: The following columns were not found in the data: {missing_vars}\")\n",
    "    df_selected = df[[var for var in selected_vars if var in df.columns]].copy()\n",
    "\n",
    "# Clean the data by recoding implausible zeros\n",
    "df_clean = recode_implausible_zeros(df_selected, zero_to_nan)"
   ]
  },
  {
   "cell_type": "code",
   "execution_count": 13,
   "metadata": {},
   "outputs": [
    {
     "name": "stdout",
     "output_type": "stream",
     "text": [
      "Saved CSV files: community_risk_data.csv, variable_metadata.csv\n"
     ]
    }
   ],
   "source": [
    "\n",
    "# ────────────────────────────────────────────────────────────────────────────────\n",
    "# Cell 6: Create metadata and save outputs\n",
    "# ────────────────────────────────────────────────────────────────────────────────\n",
    "# Create metadata DataFrame with variables and their rationales\n",
    "metadata_rows = []\n",
    "for category, vars_dict in categories.items():\n",
    "    for var_name, rationale in vars_dict.items():\n",
    "        if var_name in df_clean.columns:\n",
    "            metadata_rows.append({\n",
    "                'Category': category,\n",
    "                'Variable': var_name,\n",
    "                'Rationale': rationale\n",
    "            })\n",
    "\n",
    "metadata_df = pd.DataFrame(metadata_rows)\n",
    "\n",
    "# Save to CSV files\n",
    "df_clean.to_csv('community_risk_data.csv', index=False)\n",
    "metadata_df.to_csv('variable_metadata.csv', index=False)\n",
    "print(\"Saved CSV files: community_risk_data.csv, variable_metadata.csv\")\n"
   ]
  },
  {
   "cell_type": "code",
   "execution_count": 14,
   "metadata": {},
   "outputs": [
    {
     "name": "stdout",
     "output_type": "stream",
     "text": [
      "Saved Excel file: community_risk_categories.xlsx\n"
     ]
    }
   ],
   "source": [
    "# ────────────────────────────────────────────────────────────────────────────────\n",
    "# Cell 7: Generate Excel file with multiple sheets\n",
    "# ────────────────────────────────────────────────────────────────────────────────\n",
    "# Save to Excel with each category in a separate sheet\n",
    "with pd.ExcelWriter('community_risk_categories.xlsx') as writer:\n",
    "    # First, save the entire dataset to a sheet\n",
    "    df_clean.to_excel(writer, sheet_name='All Data', index=False)\n",
    "    \n",
    "    # Then save each category to its own sheet\n",
    "    for category, vars_dict in categories.items():\n",
    "        sheet_vars = ['Êcommunityname'] + list(vars_dict.keys())  # Include ID column\n",
    "        sheet_vars = [var for var in sheet_vars if var in df_clean.columns]\n",
    "        \n",
    "        if len(sheet_vars) > 1:  # Only create sheet if we have the ID column and at least one variable\n",
    "            df_clean[sheet_vars].to_excel(writer, sheet_name=category[:31], index=False)\n",
    "    \n",
    "    # Add metadata sheet\n",
    "    metadata_df.to_excel(writer, sheet_name='Variable Metadata', index=False)\n",
    "\n",
    "print(\"Saved Excel file: community_risk_categories.xlsx\") "
   ]
  }
 ],
 "metadata": {
  "kernelspec": {
   "display_name": "base",
   "language": "python",
   "name": "python3"
  },
  "language_info": {
   "codemirror_mode": {
    "name": "ipython",
    "version": 3
   },
   "file_extension": ".py",
   "mimetype": "text/x-python",
   "name": "python",
   "nbconvert_exporter": "python",
   "pygments_lexer": "ipython3",
   "version": "3.11.7"
  }
 },
 "nbformat": 4,
 "nbformat_minor": 4
}
