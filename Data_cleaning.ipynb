{
 "cells": [
  {
   "cell_type": "markdown",
   "metadata": {},
   "source": [
    "# Community Risk Index\n",
    "\n",
    "## Setting the Scene\n",
    "\n",
    "Crime is a complex, multi-dimensional phenomenon driven by economic hardship, social cohesion, physical environment and formal policing capacity. Rather than look at any single factor in isolation, your **Community Risk Index** brings together 25 variables—ranging from poverty rates to housing vacancy to police-per-capita—to create a holistic, data-driven ranking of neighbourhoods’ propensity for crime. This approach:\n",
    "\n",
    "- **Reflects Social Disorganization Theory**, which links poverty, residential turnover, demographic heterogeneity and family structure to weakened informal social control;\n",
    "- **Incorporates Routine Activity Theory**, which highlights how density, neighbourhood neglect and policing levels affect the “target–guardian” balance.\n",
    "\n",
    "---\n",
    "\n",
    "## Why this Problem?\n",
    "\n",
    "- Crime not only inflicts economic and human costs, it exacerbates inequality and erodes trust in institutions.\n",
    "- Policy-makers and community groups need a transparent, quantitative tool to pinpoint at-risk areas and the underlying drivers of that risk—so they can deploy resources where they’ll have greatest impact.\n",
    "\n",
    "---\n",
    "\n",
    "## Why this Data?\n",
    "\n",
    "- The UCI **“Communities & Crime”** dataset contains 147 community-level attributes for 2,200+ U.S. jurisdictions, of which we select 25 high-quality variables covering all theoretical pillars.\n",
    "- It’s a **single-file, publicly available CSV**—no arduous merging or licensing—and the variables directly map to the social and physical dimensions that criminology research (Shaw & McKay; Cohen & Felson) identifies as critical.\n",
    "\n",
    "---\n",
    "\n",
    "## Sub-Indices → Final Index\n",
    "\n",
    "1. **Socio-economic Disadvantage**  \n",
    "   (e.g. poverty rate, median income, unemployment)\n",
    "\n",
    "2. **Residential Instability & Family Structure**  \n",
    "   (e.g. residential turnover, two-parent family rates)\n",
    "\n",
    "3. **Ethnic & Cultural Heterogeneity**  \n",
    "   (racial composition shares)\n",
    "\n",
    "4. **Housing & Density**  \n",
    "   (owner-occupancy, vacancy, density, housing age)\n",
    "\n",
    "5. **Policing Capacity**  \n",
    "   (officers per capita, vehicles per capita)\n",
    "\n",
    "Each set of variables is first combined into a **sub-index** (using equal weights and PCA for robustness), then the five sub-indices are **aggregated** into a single composite score. This workflow follows the **10-step OECD composite-indicator handbook** and aligns perfectly with your CA specification’s requirement to ground an index in theory, select appropriate data, and construct transparent sub-indices before forming the final measure."
   ]
  },
  {
   "cell_type": "code",
   "execution_count": null,
   "metadata": {},
   "outputs": [],
   "source": []
  }
 ],
 "metadata": {
  "kernelspec": {
   "display_name": "Python 3",
   "language": "python",
   "name": "python3"
  },
  "language_info": {
   "codemirror_mode": {
    "name": "ipython",
    "version": 3
   },
   "file_extension": ".py",
   "mimetype": "text/x-python",
   "name": "python",
   "nbconvert_exporter": "python",
   "pygments_lexer": "ipython3",
   "version": "3.13.1"
  }
 },
 "nbformat": 4,
 "nbformat_minor": 4
}
