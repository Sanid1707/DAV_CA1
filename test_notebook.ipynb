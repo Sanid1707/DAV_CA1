{
 "cells": [
  {
   "cell_type": "markdown",
   "metadata": {},
   "source": [
    "# Testing Jupyter Notebook\n",
    "This notebook contains test examples to verify everything is working properly."
   ]
  },
  {
   "cell_type": "code",
   "execution_count": null,
   "metadata": {},
   "outputs": [],
   "source": [
    "# Test 1: Basic Python Operations\n",
    "print(\"Hello from Jupyter!\")\n",
    "print(f\"2 + 2 = {2 + 2}\")\n",
    "print(f\"10 * 5 = {10 * 5}\")\n",
    "print(f\"100 / 4 = {100 / 4}\")"
   ]
  },
  {
   "cell_type": "code",
   "execution_count": null,
   "metadata": {},
   "outputs": [],
   "source": [
    "# Test 2: List Operations\n",
    "fruits = ['apple', 'banana', 'cherry', 'date']\n",
    "print(\"Original list:\", fruits)\n",
    "print(\"First fruit:\", fruits[0])\n",
    "print(\"Last fruit:\", fruits[-1])\n",
    "print(\"Number of fruits:\", len(fruits))"
   ]
  },
  {
   "cell_type": "code",
   "execution_count": null,
   "metadata": {},
   "outputs": [],
   "source": [
    "# Test 3: Simple Plot\n",
    "import matplotlib.pyplot as plt\n",
    "import numpy as np\n",
    "\n",
    "# Create some data\n",
    "x = np.linspace(0, 10, 100)\n",
    "y1 = np.sin(x)\n",
    "y2 = np.cos(x)\n",
    "\n",
    "# Create the plot\n",
    "plt.figure(figsize=(10, 6))\n",
    "plt.plot(x, y1, label='sin(x)', color='blue')\n",
    "plt.plot(x, y2, label='cos(x)', color='red')\n",
    "plt.title('Sine and Cosine Waves')\n",
    "plt.xlabel('x')\n",
    "plt.ylabel('y')\n",
    "plt.grid(True)\n",
    "plt.legend()\n",
    "plt.show()"
   ]
  }
 ],
 "metadata": {
  "kernelspec": {
   "display_name": "Python 3",
   "language": "python",
   "name": "python3"
  },
  "language_info": {
   "codemirror_mode": {
    "name": "ipython",
    "version": 3
   },
   "file_extension": ".py",
   "mimetype": "text/x-python",
   "name": "python",
   "nbconvert_exporter": "python",
   "pygments_lexer": "ipython3",
   "version": "3.11.0"
  }
 },
 "nbformat": 4,
 "nbformat_minor": 4
}